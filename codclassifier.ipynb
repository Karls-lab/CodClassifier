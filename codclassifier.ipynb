{
 "cells": [
  {
   "cell_type": "code",
   "execution_count": 1,
   "id": "d6cabd7f",
   "metadata": {
    "_cell_guid": "b1076dfc-b9ad-4769-8c92-a6c4dae69d19",
    "_uuid": "8f2839f25d086af736a60e9eeb907d3b93b6e0e5",
    "execution": {
     "iopub.execute_input": "2023-10-12T00:26:25.339019Z",
     "iopub.status.busy": "2023-10-12T00:26:25.337894Z",
     "iopub.status.idle": "2023-10-12T00:26:25.612797Z",
     "shell.execute_reply": "2023-10-12T00:26:25.611231Z"
    },
    "papermill": {
     "duration": 0.279763,
     "end_time": "2023-10-12T00:26:25.614744",
     "exception": false,
     "start_time": "2023-10-12T00:26:25.334981",
     "status": "completed"
    },
    "tags": []
   },
   "outputs": [
    {
     "name": "stdout",
     "output_type": "stream",
     "text": [
      "/kaggle/input/the-nature-conservancy-fisheries-monitoring/train.zip\n",
      "/kaggle/input/the-nature-conservancy-fisheries-monitoring/test_stg2.7z\n",
      "/kaggle/input/the-nature-conservancy-fisheries-monitoring/test_stg1.zip\n",
      "/kaggle/input/the-nature-conservancy-fisheries-monitoring/sample_submission_stg2.csv.zip\n",
      "/kaggle/input/the-nature-conservancy-fisheries-monitoring/sample_submission_stg1.csv.zip\n"
     ]
    }
   ],
   "source": [
    "import numpy as np # linear algebra\n",
    "import pandas as pd # data processing, CSV file I/O (e.g. pd.read_csv)\n",
    "\n",
    "# Input data files are available in the read-only \"../input/\" directory\n",
    "# For example, running this (by clicking run or pressing Shift+Enter) will list all files under the input directory\n",
    "\n",
    "import os\n",
    "for dirname, _, filenames in os.walk('/kaggle/input'):\n",
    "    for filename in filenames:\n",
    "        print(os.path.join(dirname, filename))\n",
    "\n",
    "# You can write up to 20GB to the current directory (/kaggle/working/) that gets preserved as output when you create a version using \"Save & Run All\" \n",
    "# You can also write temporary files to /kaggle/temp/, but they won't be saved outside of the current session"
   ]
  },
  {
   "cell_type": "code",
   "execution_count": null,
   "id": "9fd2b21a",
   "metadata": {
    "papermill": {
     "duration": 0.002746,
     "end_time": "2023-10-12T00:26:25.618918",
     "exception": false,
     "start_time": "2023-10-12T00:26:25.616172",
     "status": "completed"
    },
    "tags": []
   },
   "outputs": [],
   "source": []
  }
 ],
 "metadata": {
  "kernelspec": {
   "display_name": "Python 3",
   "language": "python",
   "name": "python3"
  },
  "language_info": {
   "codemirror_mode": {
    "name": "ipython",
    "version": 3
   },
   "file_extension": ".py",
   "mimetype": "text/x-python",
   "name": "python",
   "nbconvert_exporter": "python",
   "pygments_lexer": "ipython3",
   "version": "3.10.12"
  },
  "papermill": {
   "default_parameters": {},
   "duration": 3.310884,
   "end_time": "2023-10-12T00:26:26.039386",
   "environment_variables": {},
   "exception": null,
   "input_path": "__notebook__.ipynb",
   "output_path": "__notebook__.ipynb",
   "parameters": {},
   "start_time": "2023-10-12T00:26:22.728502",
   "version": "2.4.0"
  }
 },
 "nbformat": 4,
 "nbformat_minor": 5
}
