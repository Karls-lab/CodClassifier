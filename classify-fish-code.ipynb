{
 "cells": [
  {
   "cell_type": "code",
   "execution_count": 2,
   "id": "a3a91feb",
   "metadata": {
    "execution": {
     "iopub.execute_input": "2023-10-12T01:04:55.157807Z",
     "iopub.status.busy": "2023-10-12T01:04:55.156529Z",
     "iopub.status.idle": "2023-10-12T01:05:02.250755Z",
     "shell.execute_reply": "2023-10-12T01:05:02.250084Z",
     "shell.execute_reply.started": "2023-10-12T01:03:19.508228Z"
    },
    "papermill": {
     "duration": 7.111828,
     "end_time": "2023-10-12T01:05:02.250928",
     "exception": false,
     "start_time": "2023-10-12T01:04:55.139100",
     "status": "completed"
    },
    "tags": []
   },
   "outputs": [],
   "source": [
    "import numpy as np\n",
    "import pandas as pd\n",
    "import os\n",
    "import random\n",
    "from glob import glob\n",
    "from sklearn.model_selection import train_test_split"
   ]
  },
  {
   "cell_type": "code",
   "execution_count": 3,
   "id": "4445437f",
   "metadata": {
    "execution": {
     "iopub.execute_input": "2023-10-12T01:05:21.156255Z",
     "iopub.status.busy": "2023-10-12T01:05:21.154804Z",
     "iopub.status.idle": "2023-10-12T01:05:21.158952Z",
     "shell.execute_reply": "2023-10-12T01:05:21.159748Z",
     "shell.execute_reply.started": "2023-10-12T01:03:27.362389Z"
    },
    "papermill": {
     "duration": 0.100768,
     "end_time": "2023-10-12T01:05:21.159960",
     "exception": false,
     "start_time": "2023-10-12T01:05:21.059192",
     "status": "completed"
    },
    "tags": []
   },
   "outputs": [
    {
     "name": "stdout",
     "output_type": "stream",
     "text": [
      "['train.zip', '__MACOSX', 'valid', 'sample_submission_stg1.csv.zip', 'sample_submission_stg2.csv.zip', 'test_stg2.7z', 'test_stg1.zip', 'train', 'test_stg1']\n",
      "Validation folder already contains files for ALB\n",
      "Validation folder already contains files for BET\n",
      "Validation folder already contains files for DOL\n",
      "Validation folder already contains files for LAG\n",
      "Validation folder already contains files for NoF\n",
      "Validation folder already contains files for OTHER\n",
      "Validation folder already contains files for SHARK\n",
      "Validation folder already contains files for YFT\n"
     ]
    }
   ],
   "source": [
    "\"\"\"\n",
    "The dataset should be unzipped into the folder named 'data' This folder should be in the same directory as this file.\n",
    "Extract the train.zip file.\n",
    "\"\"\"\n",
    "print(os.listdir(\"data/\")) # should list train.zip, sample_submission... etc \n",
    "# The Most important folder is going to be the train folder. \n",
    "# We will create our validation set by splitting the train folder into train and valid folders.\n",
    "if not os.path.exists('data/valid'):\n",
    "    os.mkdir('data/valid/')\n",
    "\n",
    "# Now we will create validation folders for each type of fish \n",
    "fish_types = ['ALB', 'BET', 'DOL', 'LAG', 'NoF', 'OTHER', 'SHARK', 'YFT'] \n",
    "for fish in fish_types:\n",
    "    # Creates a validation folder for each type of feature (fish)\n",
    "    if not os.path.exists(f'data/valid/{fish}'):\n",
    "        os.mkdir(f'data/valid/{fish}')\n",
    "\n",
    "    # if valid folder already contains validation set, it breaks out of the loop\n",
    "    if len(os.listdir(f'data/valid/{fish}')) > 0:\n",
    "        print(f\"Validation folder already contains files for {fish}\")\n",
    "        continue\n",
    "\n",
    "    source_dir = f'data/train/{fish}/'\n",
    "    valid_dir = f'data/valid/{fish}/'\n",
    "\n",
    "    # List all files in the source directory\n",
    "    file_paths = [os.path.join(source_dir, filename) for filename in os.listdir(source_dir)]\n",
    "\n",
    "    # Use 20% of the files for validation, using the train_test_split function\n",
    "    validation_ratio = 0.2\n",
    "    train_files, valid_files = train_test_split(file_paths, test_size=validation_ratio, random_state=42)\n",
    "\n",
    "    # Move the selected validation files to the validation directory\n",
    "    for file_path in valid_files:\n",
    "        filename = os.path.basename(file_path)\n",
    "        destination = os.path.join(valid_dir, filename)\n",
    "        os.rename(file_path, destination)\n",
    "\n",
    "    print(f\"{len(valid_files)} files from test/{fish} moved to validation set.\")\n"
   ]
  },
  {
   "cell_type": "code",
   "execution_count": 4,
   "id": "d877c8ee",
   "metadata": {
    "execution": {
     "iopub.execute_input": "2023-10-12T01:05:23.125102Z",
     "iopub.status.busy": "2023-10-12T01:05:23.124327Z",
     "iopub.status.idle": "2023-10-12T01:05:23.136800Z",
     "shell.execute_reply": "2023-10-12T01:05:23.137567Z"
    },
    "papermill": {
     "duration": 0.12079,
     "end_time": "2023-10-12T01:05:23.137832",
     "exception": false,
     "start_time": "2023-10-12T01:05:23.017042",
     "status": "completed"
    },
    "tags": []
   },
   "outputs": [
    {
     "name": "stderr",
     "output_type": "stream",
     "text": [
      "2023-10-11 21:01:20.699777: I tensorflow/tsl/cuda/cudart_stub.cc:28] Could not find cuda drivers on your machine, GPU will not be used.\n",
      "2023-10-11 21:01:20.733030: I tensorflow/tsl/cuda/cudart_stub.cc:28] Could not find cuda drivers on your machine, GPU will not be used.\n",
      "2023-10-11 21:01:20.733720: I tensorflow/core/platform/cpu_feature_guard.cc:182] This TensorFlow binary is optimized to use available CPU instructions in performance-critical operations.\n",
      "To enable the following instructions: AVX2 FMA, in other operations, rebuild TensorFlow with the appropriate compiler flags.\n",
      "2023-10-11 21:01:21.354501: W tensorflow/compiler/tf2tensorrt/utils/py_utils.cc:38] TF-TRT Warning: Could not find TensorRT\n"
     ]
    }
   ],
   "source": [
    "from keras.preprocessing.image import ImageDataGenerator\n",
    "import tensorflow as tf"
   ]
  },
  {
   "cell_type": "code",
   "execution_count": 5,
   "id": "695f883c",
   "metadata": {
    "execution": {
     "iopub.execute_input": "2023-10-12T01:05:23.511770Z",
     "iopub.status.busy": "2023-10-12T01:05:23.511087Z",
     "iopub.status.idle": "2023-10-12T01:05:23.830498Z",
     "shell.execute_reply": "2023-10-12T01:05:23.829851Z"
    },
    "papermill": {
     "duration": 0.41012,
     "end_time": "2023-10-12T01:05:23.830677",
     "exception": false,
     "start_time": "2023-10-12T01:05:23.420557",
     "status": "completed"
    },
    "tags": []
   },
   "outputs": [
    {
     "name": "stdout",
     "output_type": "stream",
     "text": [
      "Found 3019 images belonging to 8 classes.\n",
      "Found 758 images belonging to 8 classes.\n",
      "{'ALB': 0, 'BET': 1, 'DOL': 2, 'LAG': 3, 'NoF': 4, 'OTHER': 5, 'SHARK': 6, 'YFT': 7}\n"
     ]
    }
   ],
   "source": [
    "\"\"\" \n",
    "This part of the code sets up an Image generator that will be used for the CNN\n",
    "It doesn't actually compute any of the resizing or transformations yet, it just sets up the generator\n",
    "The generator will be called when we train the model \n",
    "\"\"\"\n",
    "# Create an ImageDataGenerator with data augmentation and normalization\n",
    "datagen = ImageDataGenerator(\n",
    "    rescale=1.0/255,    # Normalize pixel values to the range [0, 1]\n",
    "    shear_range=0.2,    # Random shear transformations\n",
    "    zoom_range=0.2,     # Random zooming\n",
    "    horizontal_flip=True,  # Random horizontal flipping\n",
    ")\n",
    "\n",
    "# Load and preprocess the dataset (in this example, assume you have a directory of images)\n",
    "train_generator = datagen.flow_from_directory(\n",
    "    'data/train/',\n",
    "    target_size=(224, 224),   # Resize images to a consistent size\n",
    "    batch_size=32,            # Batch size for training\n",
    "    class_mode='categorical'  # The type of labels (categorical for classification)\n",
    ")\n",
    "\n",
    "# Load and preprocess the validation set\n",
    "validation_generator = datagen.flow_from_directory(\n",
    "    'data/valid/',\n",
    "    target_size=(224, 224),\n",
    "    batch_size=32,\n",
    "    class_mode='categorical'\n",
    ")\n",
    "\n",
    "print(train_generator.class_indices)\n"
   ]
  },
  {
   "cell_type": "code",
   "execution_count": 9,
   "id": "bd4391f6",
   "metadata": {},
   "outputs": [
    {
     "name": "stdout",
     "output_type": "stream",
     "text": [
      "Model: \"sequential_3\"\n",
      "_________________________________________________________________\n",
      " Layer (type)                Output Shape              Param #   \n",
      "=================================================================\n",
      " conv2d_3 (Conv2D)           (None, 222, 222, 32)      896       \n",
      "                                                                 \n",
      " max_pooling2d_3 (MaxPoolin  (None, 111, 111, 32)      0         \n",
      " g2D)                                                            \n",
      "                                                                 \n",
      " flatten_3 (Flatten)         (None, 394272)            0         \n",
      "                                                                 \n",
      " dense_6 (Dense)             (None, 128)               50466944  \n",
      "                                                                 \n",
      " dropout_3 (Dropout)         (None, 128)               0         \n",
      "                                                                 \n",
      " dense_7 (Dense)             (None, 8)                 1032      \n",
      "                                                                 \n",
      "=================================================================\n",
      "Total params: 50468872 (192.52 MB)\n",
      "Trainable params: 50468872 (192.52 MB)\n",
      "Non-trainable params: 0 (0.00 Byte)\n",
      "_________________________________________________________________\n",
      "None\n",
      "10/10 [==============================] - 11s 1s/step - loss: 28.6207 - accuracy: 0.2875 - val_loss: 8.2232 - val_accuracy: 0.3438\n"
     ]
    },
    {
     "data": {
      "text/plain": [
       "<keras.src.callbacks.History at 0x7f2b644c88d0>"
      ]
     },
     "execution_count": 9,
     "metadata": {},
     "output_type": "execute_result"
    }
   ],
   "source": [
    "\"\"\"\n",
    "This part of the code sets up the CNN model\n",
    "\"\"\"\n",
    "from keras.models import Sequential\n",
    "from keras.layers import Conv2D, MaxPooling2D\n",
    "from keras.layers import Activation, Dropout, Flatten, Dense\n",
    "\n",
    "model = Sequential()\n",
    "model.add(Conv2D(32, (3, 3), input_shape=(224, 224, 3), activation='relu'))\n",
    "model.add(MaxPooling2D(pool_size=(2,2)))\n",
    "model.add(Flatten())\n",
    "model.add(Dense(128, activation='relu'))\n",
    "model.add(Dropout(0.5))\n",
    "model.add(Dense(8, activation='softmax'))\n",
    "\n",
    "# compile the model\n",
    "model.compile(loss='categorical_crossentropy', optimizer='adam', metrics=['accuracy'])\n",
    "print(model.summary())\n",
    "\n",
    "# Run the model\n",
    "model.fit(\n",
    "    train_generator,\n",
    "    steps_per_epoch=10,\n",
    "    epochs=1,\n",
    "    validation_data=validation_generator,\n",
    "    validation_steps=1\n",
    ")"
   ]
  },
  {
   "cell_type": "code",
   "execution_count": null,
   "id": "e22cce35",
   "metadata": {},
   "outputs": [],
   "source": []
  }
 ],
 "metadata": {
  "kernelspec": {
   "display_name": "Python 3",
   "language": "python",
   "name": "python3"
  },
  "language_info": {
   "codemirror_mode": {
    "name": "ipython",
    "version": 3
   },
   "file_extension": ".py",
   "mimetype": "text/x-python",
   "name": "python",
   "nbconvert_exporter": "python",
   "pygments_lexer": "ipython3",
   "version": "3.11.4"
  },
  "papermill": {
   "default_parameters": {},
   "duration": 38.974305,
   "end_time": "2023-10-12T01:05:25.764517",
   "environment_variables": {},
   "exception": null,
   "input_path": "__notebook__.ipynb",
   "output_path": "__notebook__.ipynb",
   "parameters": {},
   "start_time": "2023-10-12T01:04:46.790212",
   "version": "2.3.3"
  }
 },
 "nbformat": 4,
 "nbformat_minor": 5
}
