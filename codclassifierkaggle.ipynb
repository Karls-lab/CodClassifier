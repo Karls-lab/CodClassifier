{
 "cells": [
  {
   "cell_type": "code",
   "execution_count": 1,
   "id": "33046b47",
   "metadata": {
    "_cell_guid": "b1076dfc-b9ad-4769-8c92-a6c4dae69d19",
    "_uuid": "8f2839f25d086af736a60e9eeb907d3b93b6e0e5",
    "execution": {
     "iopub.execute_input": "2023-10-12T00:35:08.758108Z",
     "iopub.status.busy": "2023-10-12T00:35:08.757509Z",
     "iopub.status.idle": "2023-10-12T00:35:09.118190Z",
     "shell.execute_reply": "2023-10-12T00:35:09.117316Z"
    },
    "papermill": {
     "duration": 0.366799,
     "end_time": "2023-10-12T00:35:09.120349",
     "exception": false,
     "start_time": "2023-10-12T00:35:08.753550",
     "status": "completed"
    },
    "tags": []
   },
   "outputs": [],
   "source": [
    "# This Python 3 environment comes with many helpful analytics libraries installed\n",
    "# It is defined by the kaggle/python Docker image: https://github.com/kaggle/docker-python\n",
    "# For example, here's several helpful packages to load\n",
    "\n",
    "import numpy as np # linear algebra\n",
    "import pandas as pd # data processing, CSV file I/O (e.g. pd.read_csv)\n",
    "\n",
    "# Input data files are available in the read-only \"../input/\" directory\n",
    "# For example, running this (by clicking run or pressing Shift+Enter) will list all files under the input directory\n",
    "\n",
    "import os\n",
    "for dirname, _, filenames in os.walk('/kaggle/input'):\n",
    "    for filename in filenames:\n",
    "        print(os.path.join(dirname, filename))\n",
    "\n",
    "# You can write up to 20GB to the current directory (/kaggle/working/) that gets preserved as output when you create a version using \"Save & Run All\" \n",
    "# You can also write temporary files to /kaggle/temp/, but they won't be saved outside of the current session"
   ]
  },
  {
   "cell_type": "code",
   "execution_count": 2,
   "id": "7b13c6b4",
   "metadata": {
    "execution": {
     "iopub.execute_input": "2023-10-12T00:35:09.125834Z",
     "iopub.status.busy": "2023-10-12T00:35:09.125135Z",
     "iopub.status.idle": "2023-10-12T00:35:09.129103Z",
     "shell.execute_reply": "2023-10-12T00:35:09.128134Z"
    },
    "papermill": {
     "duration": 0.008963,
     "end_time": "2023-10-12T00:35:09.131186",
     "exception": false,
     "start_time": "2023-10-12T00:35:09.122223",
     "status": "completed"
    },
    "tags": []
   },
   "outputs": [],
   "source": [
    "import numpy as np\n",
    "import pandas as pd"
   ]
  },
  {
   "cell_type": "code",
   "execution_count": 3,
   "id": "3d9d2358",
   "metadata": {
    "execution": {
     "iopub.execute_input": "2023-10-12T00:35:09.135516Z",
     "iopub.status.busy": "2023-10-12T00:35:09.135211Z",
     "iopub.status.idle": "2023-10-12T00:35:09.139104Z",
     "shell.execute_reply": "2023-10-12T00:35:09.138140Z"
    },
    "papermill": {
     "duration": 0.008299,
     "end_time": "2023-10-12T00:35:09.141089",
     "exception": false,
     "start_time": "2023-10-12T00:35:09.132790",
     "status": "completed"
    },
    "tags": []
   },
   "outputs": [],
   "source": [
    "# hello\n",
    "#check to see if this works"
   ]
  }
 ],
 "metadata": {
  "kernelspec": {
   "display_name": "Python 3",
   "language": "python",
   "name": "python3"
  },
  "language_info": {
   "codemirror_mode": {
    "name": "ipython",
    "version": 3
   },
   "file_extension": ".py",
   "mimetype": "text/x-python",
   "name": "python",
   "nbconvert_exporter": "python",
   "pygments_lexer": "ipython3",
   "version": "3.10.12"
  },
  "papermill": {
   "default_parameters": {},
   "duration": 3.850857,
   "end_time": "2023-10-12T00:35:09.562177",
   "environment_variables": {},
   "exception": null,
   "input_path": "__notebook__.ipynb",
   "output_path": "__notebook__.ipynb",
   "parameters": {},
   "start_time": "2023-10-12T00:35:05.711320",
   "version": "2.4.0"
  }
 },
 "nbformat": 4,
 "nbformat_minor": 5
}
