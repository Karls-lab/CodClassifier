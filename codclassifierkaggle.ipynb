{
 "cells": [
  {
   "cell_type": "code",
   "execution_count": 1,
   "id": "2f436252",
   "metadata": {
    "_cell_guid": "b1076dfc-b9ad-4769-8c92-a6c4dae69d19",
    "_uuid": "8f2839f25d086af736a60e9eeb907d3b93b6e0e5",
    "execution": {
     "iopub.execute_input": "2023-10-12T00:36:19.482089Z",
     "iopub.status.busy": "2023-10-12T00:36:19.481642Z",
     "iopub.status.idle": "2023-10-12T00:36:20.271797Z",
     "shell.execute_reply": "2023-10-12T00:36:20.270879Z"
    },
    "papermill": {
     "duration": 0.796433,
     "end_time": "2023-10-12T00:36:20.274364",
     "exception": false,
     "start_time": "2023-10-12T00:36:19.477931",
     "status": "completed"
    },
    "tags": []
   },
   "outputs": [],
   "source": [
    "import numpy as np # linear algebra\n",
    "import pandas as pd # data processing, CSV file I/O (e.g. pd.read_csv)\n",
    "\n",
    "# Input data files are available in the read-only \"../input/\" directory\n",
    "# For example, running this (by clicking run or pressing Shift+Enter) will list all files under the input directory\n",
    "\n",
    "import os\n",
    "for dirname, _, filenames in os.walk('/kaggle/input'):\n",
    "    for filename in filenames:\n",
    "        print(os.path.join(dirname, filename))\n",
    "\n",
    "# You can write up to 20GB to the current directory (/kaggle/working/) that gets preserved as output when you create a version using \"Save & Run All\" \n",
    "# You can also write temporary files to /kaggle/temp/, but they won't be saved outside of the current session"
   ]
  },
  {
   "cell_type": "code",
   "execution_count": 2,
   "id": "d4c88b5d",
   "metadata": {
    "execution": {
     "iopub.execute_input": "2023-10-12T00:36:20.278672Z",
     "iopub.status.busy": "2023-10-12T00:36:20.278259Z",
     "iopub.status.idle": "2023-10-12T00:36:20.282280Z",
     "shell.execute_reply": "2023-10-12T00:36:20.281359Z"
    },
    "papermill": {
     "duration": 0.008106,
     "end_time": "2023-10-12T00:36:20.284115",
     "exception": false,
     "start_time": "2023-10-12T00:36:20.276009",
     "status": "completed"
    },
    "tags": []
   },
   "outputs": [],
   "source": [
    "# Howdy"
   ]
  }
 ],
 "metadata": {
  "kernelspec": {
   "display_name": "Python 3",
   "language": "python",
   "name": "python3"
  },
  "language_info": {
   "codemirror_mode": {
    "name": "ipython",
    "version": 3
   },
   "file_extension": ".py",
   "mimetype": "text/x-python",
   "name": "python",
   "nbconvert_exporter": "python",
   "pygments_lexer": "ipython3",
   "version": "3.10.12"
  },
  "papermill": {
   "default_parameters": {},
   "duration": 5.304133,
   "end_time": "2023-10-12T00:36:20.706426",
   "environment_variables": {},
   "exception": null,
   "input_path": "__notebook__.ipynb",
   "output_path": "__notebook__.ipynb",
   "parameters": {},
   "start_time": "2023-10-12T00:36:15.402293",
   "version": "2.4.0"
  }
 },
 "nbformat": 4,
 "nbformat_minor": 5
}
